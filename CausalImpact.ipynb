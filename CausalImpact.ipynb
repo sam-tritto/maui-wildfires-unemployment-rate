{
 "cells": [
  {
   "cell_type": "markdown",
   "metadata": {},
   "source": [
    "# CausalImpact Analysis"
   ]
  },
  {
   "cell_type": "markdown",
   "metadata": {},
   "source": [
    "https://github.com/WillianFuks/tfcausalimpact"
   ]
  },
  {
   "cell_type": "code",
   "execution_count": null,
   "metadata": {},
   "outputs": [],
   "source": [
    "# !conda create --name causal_env python=3.9\n",
    "# !conda activate causal_env\n",
    "# !conda install tensorflow=2.15\n",
    "# !pip install tensorflow_probability==0.22\n",
    "# !pip install tfcausalimpact==0.0.12\n",
    "# !pip install numpy==1.23.5\n",
    "# !pip install tslearn==0.6.3\n",
    "# !conda install ipykernel\n",
    "# !python -m ipykernel install --user --name causal_env"
   ]
  },
  {
   "cell_type": "code",
   "execution_count": 1,
   "metadata": {},
   "outputs": [],
   "source": [
    "import pandas as pd\n",
    "import numpy as np\n",
    "from time import strptime\n",
    "\n",
    "from causalimpact import CausalImpact\n",
    "\n",
    "from tslearn.preprocessing import TimeSeriesScalerMinMax, TimeSeriesScalerMeanVariance\n",
    "from tslearn.neighbors import KNeighborsTimeSeries\n",
    "from tslearn.utils import to_time_series_dataset"
   ]
  },
  {
   "cell_type": "code",
   "execution_count": null,
   "metadata": {},
   "outputs": [],
   "source": []
  },
  {
   "cell_type": "markdown",
   "metadata": {},
   "source": [
    "# Getting the BLS Data Together"
   ]
  },
  {
   "cell_type": "code",
   "execution_count": null,
   "metadata": {},
   "outputs": [],
   "source": [
    "import os\n",
    "\n"
   ]
  },
  {
   "cell_type": "code",
   "execution_count": null,
   "metadata": {},
   "outputs": [],
   "source": [
    "df = pd.DataFrame()\n",
    "\n",
    "# Specify the folder path where your Excel files are located\n",
    "folder_path = \"/Data\"\n",
    "\n",
    "# Iterate through files in the folder\n",
    "for filename in os.listdir(folder_path):\n",
    "    # Check if the file starts with \"Unemployment\" and has a .xlsx extension\n",
    "    if filename.startswith(\"Unemployment\") and filename.endswith(\".xlsx\"):\n",
    "        # Construct the full file path\n",
    "        file_path = os.path.join(folder_path, filename)\n",
    "        \n",
    "        # Read the Excel file into a pandas DataFrame\n",
    "        temp_df = pd.read_excel(file_path)\n",
    "        \n",
    "        # Now you can work with the DataFrame (df) for further analysis or processing\n",
    "        print(f\"Read data from file: {file_path}\")\n",
    "        \n",
    "        # Example: Display the first few rows of the DataFrame\n",
    "        pd.concat([df, temp_df])"
   ]
  },
  {
   "cell_type": "code",
   "execution_count": null,
   "metadata": {},
   "outputs": [],
   "source": []
  },
  {
   "cell_type": "code",
   "execution_count": null,
   "metadata": {},
   "outputs": [],
   "source": []
  },
  {
   "cell_type": "code",
   "execution_count": null,
   "metadata": {},
   "outputs": [],
   "source": []
  },
  {
   "cell_type": "markdown",
   "metadata": {},
   "source": [
    "# The Effect of the Maui Wildfire on the Unemployment Rate"
   ]
  },
  {
   "cell_type": "code",
   "execution_count": 36,
   "metadata": {},
   "outputs": [
    {
     "data": {
      "text/html": [
       "<div>\n",
       "<style scoped>\n",
       "    .dataframe tbody tr th:only-of-type {\n",
       "        vertical-align: middle;\n",
       "    }\n",
       "\n",
       "    .dataframe tbody tr th {\n",
       "        vertical-align: top;\n",
       "    }\n",
       "\n",
       "    .dataframe thead th {\n",
       "        text-align: right;\n",
       "    }\n",
       "</style>\n",
       "<table border=\"1\" class=\"dataframe\">\n",
       "  <thead>\n",
       "    <tr style=\"text-align: right;\">\n",
       "      <th></th>\n",
       "      <th>Year</th>\n",
       "      <th>Period</th>\n",
       "      <th>labor force</th>\n",
       "      <th>employment</th>\n",
       "      <th>unemployment</th>\n",
       "      <th>unemployment rate</th>\n",
       "      <th>county</th>\n",
       "    </tr>\n",
       "  </thead>\n",
       "  <tbody>\n",
       "    <tr>\n",
       "      <th>0</th>\n",
       "      <td>2013</td>\n",
       "      <td>Jan</td>\n",
       "      <td>81696</td>\n",
       "      <td>77317</td>\n",
       "      <td>4379</td>\n",
       "      <td>5.4</td>\n",
       "      <td>Maui</td>\n",
       "    </tr>\n",
       "    <tr>\n",
       "      <th>1</th>\n",
       "      <td>2013</td>\n",
       "      <td>Feb</td>\n",
       "      <td>79443</td>\n",
       "      <td>75277</td>\n",
       "      <td>4166</td>\n",
       "      <td>5.2</td>\n",
       "      <td>Maui</td>\n",
       "    </tr>\n",
       "    <tr>\n",
       "      <th>2</th>\n",
       "      <td>2013</td>\n",
       "      <td>Mar</td>\n",
       "      <td>79577</td>\n",
       "      <td>75613</td>\n",
       "      <td>3964</td>\n",
       "      <td>5.0</td>\n",
       "      <td>Maui</td>\n",
       "    </tr>\n",
       "    <tr>\n",
       "      <th>3</th>\n",
       "      <td>2013</td>\n",
       "      <td>Apr</td>\n",
       "      <td>80509</td>\n",
       "      <td>76725</td>\n",
       "      <td>3784</td>\n",
       "      <td>4.7</td>\n",
       "      <td>Maui</td>\n",
       "    </tr>\n",
       "    <tr>\n",
       "      <th>4</th>\n",
       "      <td>2013</td>\n",
       "      <td>May</td>\n",
       "      <td>79888</td>\n",
       "      <td>76125</td>\n",
       "      <td>3763</td>\n",
       "      <td>4.7</td>\n",
       "      <td>Maui</td>\n",
       "    </tr>\n",
       "    <tr>\n",
       "      <th>...</th>\n",
       "      <td>...</td>\n",
       "      <td>...</td>\n",
       "      <td>...</td>\n",
       "      <td>...</td>\n",
       "      <td>...</td>\n",
       "      <td>...</td>\n",
       "      <td>...</td>\n",
       "    </tr>\n",
       "    <tr>\n",
       "      <th>515</th>\n",
       "      <td>2023</td>\n",
       "      <td>Jun</td>\n",
       "      <td>94123</td>\n",
       "      <td>90593</td>\n",
       "      <td>3530</td>\n",
       "      <td>3.8</td>\n",
       "      <td>Hawaii</td>\n",
       "    </tr>\n",
       "    <tr>\n",
       "      <th>516</th>\n",
       "      <td>2023</td>\n",
       "      <td>Jul</td>\n",
       "      <td>94206</td>\n",
       "      <td>91203</td>\n",
       "      <td>3003</td>\n",
       "      <td>3.2</td>\n",
       "      <td>Hawaii</td>\n",
       "    </tr>\n",
       "    <tr>\n",
       "      <th>517</th>\n",
       "      <td>2023</td>\n",
       "      <td>Aug</td>\n",
       "      <td>94314</td>\n",
       "      <td>91348</td>\n",
       "      <td>2966</td>\n",
       "      <td>3.1</td>\n",
       "      <td>Hawaii</td>\n",
       "    </tr>\n",
       "    <tr>\n",
       "      <th>518</th>\n",
       "      <td>2023</td>\n",
       "      <td>Sep</td>\n",
       "      <td>94555</td>\n",
       "      <td>91949</td>\n",
       "      <td>2606</td>\n",
       "      <td>2.8</td>\n",
       "      <td>Hawaii</td>\n",
       "    </tr>\n",
       "    <tr>\n",
       "      <th>519</th>\n",
       "      <td>2023</td>\n",
       "      <td>Oct</td>\n",
       "      <td>94756</td>\n",
       "      <td>92249</td>\n",
       "      <td>2507</td>\n",
       "      <td>2.6</td>\n",
       "      <td>Hawaii</td>\n",
       "    </tr>\n",
       "  </tbody>\n",
       "</table>\n",
       "<p>520 rows × 7 columns</p>\n",
       "</div>"
      ],
      "text/plain": [
       "     Year Period  labor force  employment  unemployment  unemployment rate  \\\n",
       "0    2013    Jan        81696       77317          4379                5.4   \n",
       "1    2013    Feb        79443       75277          4166                5.2   \n",
       "2    2013    Mar        79577       75613          3964                5.0   \n",
       "3    2013    Apr        80509       76725          3784                4.7   \n",
       "4    2013    May        79888       76125          3763                4.7   \n",
       "..    ...    ...          ...         ...           ...                ...   \n",
       "515  2023    Jun        94123       90593          3530                3.8   \n",
       "516  2023    Jul        94206       91203          3003                3.2   \n",
       "517  2023    Aug        94314       91348          2966                3.1   \n",
       "518  2023    Sep        94555       91949          2606                2.8   \n",
       "519  2023    Oct        94756       92249          2507                2.6   \n",
       "\n",
       "     county  \n",
       "0      Maui  \n",
       "1      Maui  \n",
       "2      Maui  \n",
       "3      Maui  \n",
       "4      Maui  \n",
       "..      ...  \n",
       "515  Hawaii  \n",
       "516  Hawaii  \n",
       "517  Hawaii  \n",
       "518  Hawaii  \n",
       "519  Hawaii  \n",
       "\n",
       "[520 rows x 7 columns]"
      ]
     },
     "execution_count": 36,
     "metadata": {},
     "output_type": "execute_result"
    }
   ],
   "source": [
    "df = pd.read_excel('Unemployment_All_Island.xlsx')\n",
    "df"
   ]
  },
  {
   "cell_type": "code",
   "execution_count": 37,
   "metadata": {},
   "outputs": [
    {
     "data": {
      "text/html": [
       "<div>\n",
       "<style scoped>\n",
       "    .dataframe tbody tr th:only-of-type {\n",
       "        vertical-align: middle;\n",
       "    }\n",
       "\n",
       "    .dataframe tbody tr th {\n",
       "        vertical-align: top;\n",
       "    }\n",
       "\n",
       "    .dataframe thead th {\n",
       "        text-align: right;\n",
       "    }\n",
       "</style>\n",
       "<table border=\"1\" class=\"dataframe\">\n",
       "  <thead>\n",
       "    <tr style=\"text-align: right;\">\n",
       "      <th></th>\n",
       "      <th>Year</th>\n",
       "      <th>Period</th>\n",
       "      <th>Maui</th>\n",
       "      <th>Hawaii</th>\n",
       "      <th>Honolulu</th>\n",
       "      <th>Kauai</th>\n",
       "    </tr>\n",
       "  </thead>\n",
       "  <tbody>\n",
       "    <tr>\n",
       "      <th>0</th>\n",
       "      <td>2013</td>\n",
       "      <td>Jan</td>\n",
       "      <td>5.4</td>\n",
       "      <td>7.0</td>\n",
       "      <td>4.8</td>\n",
       "      <td>6.0</td>\n",
       "    </tr>\n",
       "    <tr>\n",
       "      <th>1</th>\n",
       "      <td>2013</td>\n",
       "      <td>Feb</td>\n",
       "      <td>5.2</td>\n",
       "      <td>6.7</td>\n",
       "      <td>4.4</td>\n",
       "      <td>5.8</td>\n",
       "    </tr>\n",
       "    <tr>\n",
       "      <th>2</th>\n",
       "      <td>2013</td>\n",
       "      <td>Mar</td>\n",
       "      <td>5.0</td>\n",
       "      <td>6.4</td>\n",
       "      <td>4.2</td>\n",
       "      <td>5.4</td>\n",
       "    </tr>\n",
       "    <tr>\n",
       "      <th>3</th>\n",
       "      <td>2013</td>\n",
       "      <td>Apr</td>\n",
       "      <td>4.7</td>\n",
       "      <td>6.3</td>\n",
       "      <td>4.0</td>\n",
       "      <td>5.3</td>\n",
       "    </tr>\n",
       "    <tr>\n",
       "      <th>4</th>\n",
       "      <td>2013</td>\n",
       "      <td>May</td>\n",
       "      <td>4.7</td>\n",
       "      <td>6.4</td>\n",
       "      <td>4.1</td>\n",
       "      <td>5.1</td>\n",
       "    </tr>\n",
       "    <tr>\n",
       "      <th>...</th>\n",
       "      <td>...</td>\n",
       "      <td>...</td>\n",
       "      <td>...</td>\n",
       "      <td>...</td>\n",
       "      <td>...</td>\n",
       "      <td>...</td>\n",
       "    </tr>\n",
       "    <tr>\n",
       "      <th>125</th>\n",
       "      <td>2023</td>\n",
       "      <td>Jun</td>\n",
       "      <td>3.1</td>\n",
       "      <td>3.8</td>\n",
       "      <td>3.3</td>\n",
       "      <td>3.1</td>\n",
       "    </tr>\n",
       "    <tr>\n",
       "      <th>126</th>\n",
       "      <td>2023</td>\n",
       "      <td>Jul</td>\n",
       "      <td>2.5</td>\n",
       "      <td>3.2</td>\n",
       "      <td>2.6</td>\n",
       "      <td>2.4</td>\n",
       "    </tr>\n",
       "    <tr>\n",
       "      <th>127</th>\n",
       "      <td>2023</td>\n",
       "      <td>Aug</td>\n",
       "      <td>4.5</td>\n",
       "      <td>3.1</td>\n",
       "      <td>2.8</td>\n",
       "      <td>2.6</td>\n",
       "    </tr>\n",
       "    <tr>\n",
       "      <th>128</th>\n",
       "      <td>2023</td>\n",
       "      <td>Sep</td>\n",
       "      <td>8.3</td>\n",
       "      <td>2.8</td>\n",
       "      <td>2.6</td>\n",
       "      <td>2.4</td>\n",
       "    </tr>\n",
       "    <tr>\n",
       "      <th>129</th>\n",
       "      <td>2023</td>\n",
       "      <td>Oct</td>\n",
       "      <td>7.1</td>\n",
       "      <td>2.6</td>\n",
       "      <td>2.5</td>\n",
       "      <td>2.3</td>\n",
       "    </tr>\n",
       "  </tbody>\n",
       "</table>\n",
       "<p>130 rows × 6 columns</p>\n",
       "</div>"
      ],
      "text/plain": [
       "     Year Period  Maui  Hawaii  Honolulu  Kauai\n",
       "0    2013    Jan   5.4     7.0       4.8    6.0\n",
       "1    2013    Feb   5.2     6.7       4.4    5.8\n",
       "2    2013    Mar   5.0     6.4       4.2    5.4\n",
       "3    2013    Apr   4.7     6.3       4.0    5.3\n",
       "4    2013    May   4.7     6.4       4.1    5.1\n",
       "..    ...    ...   ...     ...       ...    ...\n",
       "125  2023    Jun   3.1     3.8       3.3    3.1\n",
       "126  2023    Jul   2.5     3.2       2.6    2.4\n",
       "127  2023    Aug   4.5     3.1       2.8    2.6\n",
       "128  2023    Sep   8.3     2.8       2.6    2.4\n",
       "129  2023    Oct   7.1     2.6       2.5    2.3\n",
       "\n",
       "[130 rows x 6 columns]"
      ]
     },
     "execution_count": 37,
     "metadata": {},
     "output_type": "execute_result"
    }
   ],
   "source": [
    "maui_df = df[df['county']=='Maui'].rename(columns = {'unemployment rate':'Maui'})[['Year', 'Period', 'Maui']]\n",
    "hawaii_df = df[df['county']=='Hawaii'].rename(columns = {'unemployment rate':'Hawaii'})[['Year', 'Period', 'Hawaii']]\n",
    "honolulu_df = df[df['county']=='Honolulu'].rename(columns = {'unemployment rate':'Honolulu'})[['Year', 'Period', 'Honolulu']]\n",
    "kauai_df = df[df['county']=='Kauai'].rename(columns = {'unemployment rate':'Kauai'})[['Year', 'Period', 'Kauai']]\n",
    "\n",
    "df = pd.merge(maui_df, hawaii_df, how = 'outer', on = ['Year', 'Period'])\n",
    "df = pd.merge(df, honolulu_df, how = 'outer', on = ['Year', 'Period'])\n",
    "df = pd.merge(df, kauai_df, how = 'outer', on = ['Year', 'Period'])\n",
    "df"
   ]
  },
  {
   "cell_type": "code",
   "execution_count": 38,
   "metadata": {},
   "outputs": [],
   "source": [
    "df['Period'] = [strptime(str(x), '%b').tm_mon for x in df['Period']]\n",
    "df['Day'] = '1'\n",
    "df['Year'] = df['Year'].astype(str)\n",
    "df['Period'] = df['Period'].apply(lambda x: str(x).zfill(2))\n",
    "df['Day'] = df['Day'].apply(lambda x: str(x).zfill(2))\n",
    "df['Date'] = df['Year'] + df['Period'] + df['Day']\n",
    "df['Date'] = pd.to_datetime(df['Date'])\n",
    "df.drop(['Day','Period', 'Year'], axis=1, inplace =True)\n",
    "df"
   ]
  },
  {
   "cell_type": "code",
   "execution_count": null,
   "metadata": {},
   "outputs": [],
   "source": []
  },
  {
   "cell_type": "markdown",
   "metadata": {},
   "source": [
    "### Market Matching"
   ]
  },
  {
   "cell_type": "code",
   "execution_count": null,
   "metadata": {},
   "outputs": [],
   "source": [
    "n_neighbors = 30\n",
    "\n",
    "ts_df = df.copy()\n",
    "\n",
    "# Subset to only the pre intervention period\n",
    "ts_df = ts_df[ts_df['Week'] < post_period_start]\n",
    "\n",
    "# Subset the pilot\n",
    "ts_pilot = ts_df[ts_df[''] == '']\n",
    "\n",
    "# Subset the controls\n",
    "ts_control = ts_df[ts_df[''] != '']\n",
    "\n",
    "\n",
    "X_train = to_time_series_dataset([ts_control[ts_control['LOCATION'] == loc] for loc in ts_control['LOCATION'].unique().tolist()])\n",
    "scaler = TimeSeriesScalerMinMax(value_range = (0.0 , 1.0))\n",
    "X_train_scaled = scaler.fit_transform(X_train)\n",
    "\n",
    "X_test = to_time_series_dataset([ts_pilot[ts_pilot['LOCATION'] == loc] for loc in ts_pilot['LOCATION'].unique().tolist()])\n",
    "scaler = TimeSeriesScalerMinMax(value_range = (0.0 , 1.0))\n",
    "X_test_scaled = scaler.fit_transform(X_test)\n",
    "\n",
    "# nearest neighbor search\n",
    "knn = KNeighborsTimeSeries(n_neighbors = n_neighbors, metric = 'dtw', n_jobs = -1)\n",
    "knn.fit(X_train_scaled)\n",
    "\n",
    "neighbors_list = []\n",
    "\n",
    "dists, idx = knn.kneighbors(X_test_scaled)\n",
    "\n",
    "idx = idx.tolist()\n",
    "\n",
    "neighbors_list = [ts_control.loc[idx[0][i], ['LOCATION']  ]for i in range(0, n_neighbors)]\n",
    "\n"
   ]
  },
  {
   "cell_type": "code",
   "execution_count": null,
   "metadata": {},
   "outputs": [],
   "source": []
  },
  {
   "cell_type": "markdown",
   "metadata": {},
   "source": [
    "### Split Pre and Post Intervention"
   ]
  },
  {
   "cell_type": "code",
   "execution_count": 46,
   "metadata": {},
   "outputs": [],
   "source": [
    "intervention_date = '2023-08-01'\n",
    "\n",
    "pre_period_start = min(df['Date'])\n",
    "pre_period_stop = max(df[df['Date'] < intervention_date]['Date'])\n",
    "\n",
    "post_period_start = min(df[df['Date'] >= intervention_date]['Date'])\n",
    "post_period_stop = max(df['Date'])"
   ]
  },
  {
   "cell_type": "code",
   "execution_count": 47,
   "metadata": {},
   "outputs": [],
   "source": [
    "pre_period=[pre_period_start, pre_period_stop]\n",
    "post_period=[post_period_start, post_period_stop]"
   ]
  },
  {
   "cell_type": "code",
   "execution_count": 50,
   "metadata": {},
   "outputs": [],
   "source": [
    "df = df.set_index('Date')"
   ]
  },
  {
   "cell_type": "code",
   "execution_count": 51,
   "metadata": {},
   "outputs": [
    {
     "data": {
      "text/html": [
       "<div>\n",
       "<style scoped>\n",
       "    .dataframe tbody tr th:only-of-type {\n",
       "        vertical-align: middle;\n",
       "    }\n",
       "\n",
       "    .dataframe tbody tr th {\n",
       "        vertical-align: top;\n",
       "    }\n",
       "\n",
       "    .dataframe thead th {\n",
       "        text-align: right;\n",
       "    }\n",
       "</style>\n",
       "<table border=\"1\" class=\"dataframe\">\n",
       "  <thead>\n",
       "    <tr style=\"text-align: right;\">\n",
       "      <th></th>\n",
       "      <th>Maui</th>\n",
       "      <th>Hawaii</th>\n",
       "      <th>Honolulu</th>\n",
       "      <th>Kauai</th>\n",
       "    </tr>\n",
       "    <tr>\n",
       "      <th>Date</th>\n",
       "      <th></th>\n",
       "      <th></th>\n",
       "      <th></th>\n",
       "      <th></th>\n",
       "    </tr>\n",
       "  </thead>\n",
       "  <tbody>\n",
       "    <tr>\n",
       "      <th>2013-01-01</th>\n",
       "      <td>5.4</td>\n",
       "      <td>7.0</td>\n",
       "      <td>4.8</td>\n",
       "      <td>6.0</td>\n",
       "    </tr>\n",
       "    <tr>\n",
       "      <th>2013-02-01</th>\n",
       "      <td>5.2</td>\n",
       "      <td>6.7</td>\n",
       "      <td>4.4</td>\n",
       "      <td>5.8</td>\n",
       "    </tr>\n",
       "    <tr>\n",
       "      <th>2013-03-01</th>\n",
       "      <td>5.0</td>\n",
       "      <td>6.4</td>\n",
       "      <td>4.2</td>\n",
       "      <td>5.4</td>\n",
       "    </tr>\n",
       "    <tr>\n",
       "      <th>2013-04-01</th>\n",
       "      <td>4.7</td>\n",
       "      <td>6.3</td>\n",
       "      <td>4.0</td>\n",
       "      <td>5.3</td>\n",
       "    </tr>\n",
       "    <tr>\n",
       "      <th>2013-05-01</th>\n",
       "      <td>4.7</td>\n",
       "      <td>6.4</td>\n",
       "      <td>4.1</td>\n",
       "      <td>5.1</td>\n",
       "    </tr>\n",
       "    <tr>\n",
       "      <th>...</th>\n",
       "      <td>...</td>\n",
       "      <td>...</td>\n",
       "      <td>...</td>\n",
       "      <td>...</td>\n",
       "    </tr>\n",
       "    <tr>\n",
       "      <th>2023-06-01</th>\n",
       "      <td>3.1</td>\n",
       "      <td>3.8</td>\n",
       "      <td>3.3</td>\n",
       "      <td>3.1</td>\n",
       "    </tr>\n",
       "    <tr>\n",
       "      <th>2023-07-01</th>\n",
       "      <td>2.5</td>\n",
       "      <td>3.2</td>\n",
       "      <td>2.6</td>\n",
       "      <td>2.4</td>\n",
       "    </tr>\n",
       "    <tr>\n",
       "      <th>2023-08-01</th>\n",
       "      <td>4.5</td>\n",
       "      <td>3.1</td>\n",
       "      <td>2.8</td>\n",
       "      <td>2.6</td>\n",
       "    </tr>\n",
       "    <tr>\n",
       "      <th>2023-09-01</th>\n",
       "      <td>8.3</td>\n",
       "      <td>2.8</td>\n",
       "      <td>2.6</td>\n",
       "      <td>2.4</td>\n",
       "    </tr>\n",
       "    <tr>\n",
       "      <th>2023-10-01</th>\n",
       "      <td>7.1</td>\n",
       "      <td>2.6</td>\n",
       "      <td>2.5</td>\n",
       "      <td>2.3</td>\n",
       "    </tr>\n",
       "  </tbody>\n",
       "</table>\n",
       "<p>130 rows × 4 columns</p>\n",
       "</div>"
      ],
      "text/plain": [
       "            Maui  Hawaii  Honolulu  Kauai\n",
       "Date                                     \n",
       "2013-01-01   5.4     7.0       4.8    6.0\n",
       "2013-02-01   5.2     6.7       4.4    5.8\n",
       "2013-03-01   5.0     6.4       4.2    5.4\n",
       "2013-04-01   4.7     6.3       4.0    5.3\n",
       "2013-05-01   4.7     6.4       4.1    5.1\n",
       "...          ...     ...       ...    ...\n",
       "2023-06-01   3.1     3.8       3.3    3.1\n",
       "2023-07-01   2.5     3.2       2.6    2.4\n",
       "2023-08-01   4.5     3.1       2.8    2.6\n",
       "2023-09-01   8.3     2.8       2.6    2.4\n",
       "2023-10-01   7.1     2.6       2.5    2.3\n",
       "\n",
       "[130 rows x 4 columns]"
      ]
     },
     "execution_count": 51,
     "metadata": {},
     "output_type": "execute_result"
    }
   ],
   "source": [
    "df"
   ]
  },
  {
   "cell_type": "markdown",
   "metadata": {},
   "source": [
    "### CausalImact"
   ]
  },
  {
   "cell_type": "code",
   "execution_count": 52,
   "metadata": {},
   "outputs": [
    {
     "name": "stderr",
     "output_type": "stream",
     "text": [
      "/Users/sam/opt/anaconda3/envs/causal_env/lib/python3.9/site-packages/causalimpact/data.py:263: FutureWarning: DataFrame.applymap has been deprecated. Use DataFrame.map instead.\n",
      "  if not data.applymap(np.isreal).values.all():\n"
     ]
    },
    {
     "name": "stdout",
     "output_type": "stream",
     "text": [
      "WARNING:tensorflow:From /Users/sam/opt/anaconda3/envs/causal_env/lib/python3.9/site-packages/tensorflow/python/autograph/impl/api.py:459: StructuralTimeSeries.joint_log_prob (from tensorflow_probability.python.sts.structural_time_series) is deprecated and will be removed after 2022-03-01.\n",
      "Instructions for updating:\n",
      "Please use `StructuralTimeSeries.joint_distribution(observed_time_series).log_prob`\n",
      "WARNING:tensorflow:From /Users/sam/opt/anaconda3/envs/causal_env/lib/python3.9/site-packages/causalimpact/model.py:408: calling one_step_predictive (from tensorflow_probability.python.sts.forecast) with timesteps_are_event_shape=True is deprecated and will be removed after 2021-12-31.\n",
      "Instructions for updating:\n",
      "`Predictive distributions returned by`tfp.sts.one_step_predictive` will soon compute per-timestep probabilities (treating timesteps as part of the batch shape) instead of a single probability for an entire series (the current approach, in which timesteps are treated as event shape). Please update your code to pass `timesteps_are_event_shape=False` (this will soon be the default) and to explicitly sum over the per-timestep log probabilities if this is required.\n"
     ]
    }
   ],
   "source": [
    "ci = CausalImpact(df, pre_period=pre_period, post_period=post_period)"
   ]
  },
  {
   "cell_type": "code",
   "execution_count": 53,
   "metadata": {},
   "outputs": [
    {
     "data": {
      "image/png": "[encoded data removed]",
      "text/plain": [
       "<Figure size 1000x700 with 3 Axes>"
      ]
     },
     "metadata": {},
     "output_type": "display_data"
    }
   ],
   "source": [
    "ci.plot()"
   ]
  },
  {
   "cell_type": "code",
   "execution_count": 54,
   "metadata": {},
   "outputs": [
    {
     "name": "stdout",
     "output_type": "stream",
     "text": [
      "Analysis report {CausalImpact}\n",
      "\n",
      "\n",
      "During the post-intervention period, the response variable had\n",
      "an average value of approx. 6.63. By contrast, in the absence of an\n",
      "intervention, we would have expected an average response of 2.31.\n",
      "The 95% interval of this counterfactual prediction is [0.53, 4.2].\n",
      "Subtracting this prediction from the observed response yields\n",
      "an estimate of the causal effect the intervention had on the\n",
      "response variable. This effect is 4.33 with a 95% interval of\n",
      "[2.43, 6.11]. For a discussion of the significance of this effect,\n",
      "see below.\n",
      "\n",
      "\n",
      "Summing up the individual data points during the post-intervention\n",
      "period (which can only sometimes be meaningfully interpreted), the\n",
      "response variable had an overall value of 19.9.\n",
      "By contrast, had the intervention not taken place, we would have expected\n",
      "a sum of 6.92. The 95% interval of this prediction is [1.58, 12.61].\n",
      "\n",
      "\n",
      "The above results are given in terms of absolute numbers. In relative\n",
      "terms, the response variable showed an increase of +187.48%. The 95%\n",
      "interval of this percentage is [105.38%, 264.63%].\n",
      "\n",
      "\n",
      "This means that the positive effect observed during the intervention\n",
      "period is statistically significant and unlikely to be due to random\n",
      "fluctuations. It should be noted, however, that the question of whether\n",
      "this increase also bears substantive significance can only be answered\n",
      "by comparing the absolute effect (4.33) to the original goal\n",
      "of the underlying intervention.\n",
      "\n",
      "\n",
      "The probability of obtaining this effect by chance is very small\n",
      "(Bayesian one-sided tail-area probability p = 0.0).\n",
      "This means the causal effect can be considered statistically\n",
      "significant.\n"
     ]
    }
   ],
   "source": [
    "print(ci.summary(output='report'))"
   ]
  },
  {
   "cell_type": "code",
   "execution_count": null,
   "metadata": {},
   "outputs": [],
   "source": []
  },
  {
   "cell_type": "markdown",
   "metadata": {},
   "source": [
    "# The Effect of ChatGPT on the Interest in AI"
   ]
  },
  {
   "cell_type": "code",
   "execution_count": 3,
   "metadata": {},
   "outputs": [
    {
     "data": {
      "text/html": [
       "<div>\n",
       "<style scoped>\n",
       "    .dataframe tbody tr th:only-of-type {\n",
       "        vertical-align: middle;\n",
       "    }\n",
       "\n",
       "    .dataframe tbody tr th {\n",
       "        vertical-align: top;\n",
       "    }\n",
       "\n",
       "    .dataframe thead th {\n",
       "        text-align: right;\n",
       "    }\n",
       "</style>\n",
       "<table border=\"1\" class=\"dataframe\">\n",
       "  <thead>\n",
       "    <tr style=\"text-align: right;\">\n",
       "      <th></th>\n",
       "      <th>Week</th>\n",
       "      <th>AI: (United States)</th>\n",
       "      <th>ChatGPT: (United States)</th>\n",
       "    </tr>\n",
       "  </thead>\n",
       "  <tbody>\n",
       "    <tr>\n",
       "      <th>0</th>\n",
       "      <td>2018-12-09</td>\n",
       "      <td>7</td>\n",
       "      <td>&lt;1</td>\n",
       "    </tr>\n",
       "    <tr>\n",
       "      <th>1</th>\n",
       "      <td>2018-12-16</td>\n",
       "      <td>7</td>\n",
       "      <td>0</td>\n",
       "    </tr>\n",
       "    <tr>\n",
       "      <th>2</th>\n",
       "      <td>2018-12-23</td>\n",
       "      <td>6</td>\n",
       "      <td>0</td>\n",
       "    </tr>\n",
       "    <tr>\n",
       "      <th>3</th>\n",
       "      <td>2018-12-30</td>\n",
       "      <td>5</td>\n",
       "      <td>0</td>\n",
       "    </tr>\n",
       "    <tr>\n",
       "      <th>4</th>\n",
       "      <td>2019-01-06</td>\n",
       "      <td>7</td>\n",
       "      <td>0</td>\n",
       "    </tr>\n",
       "    <tr>\n",
       "      <th>...</th>\n",
       "      <td>...</td>\n",
       "      <td>...</td>\n",
       "      <td>...</td>\n",
       "    </tr>\n",
       "    <tr>\n",
       "      <th>255</th>\n",
       "      <td>2023-10-29</td>\n",
       "      <td>79</td>\n",
       "      <td>42</td>\n",
       "    </tr>\n",
       "    <tr>\n",
       "      <th>256</th>\n",
       "      <td>2023-11-05</td>\n",
       "      <td>85</td>\n",
       "      <td>47</td>\n",
       "    </tr>\n",
       "    <tr>\n",
       "      <th>257</th>\n",
       "      <td>2023-11-12</td>\n",
       "      <td>84</td>\n",
       "      <td>47</td>\n",
       "    </tr>\n",
       "    <tr>\n",
       "      <th>258</th>\n",
       "      <td>2023-11-19</td>\n",
       "      <td>75</td>\n",
       "      <td>35</td>\n",
       "    </tr>\n",
       "    <tr>\n",
       "      <th>259</th>\n",
       "      <td>2023-11-26</td>\n",
       "      <td>80</td>\n",
       "      <td>49</td>\n",
       "    </tr>\n",
       "  </tbody>\n",
       "</table>\n",
       "<p>260 rows × 3 columns</p>\n",
       "</div>"
      ],
      "text/plain": [
       "           Week  AI: (United States) ChatGPT: (United States)\n",
       "0    2018-12-09                    7                       <1\n",
       "1    2018-12-16                    7                        0\n",
       "2    2018-12-23                    6                        0\n",
       "3    2018-12-30                    5                        0\n",
       "4    2019-01-06                    7                        0\n",
       "..          ...                  ...                      ...\n",
       "255  2023-10-29                   79                       42\n",
       "256  2023-11-05                   85                       47\n",
       "257  2023-11-12                   84                       47\n",
       "258  2023-11-19                   75                       35\n",
       "259  2023-11-26                   80                       49\n",
       "\n",
       "[260 rows x 3 columns]"
      ]
     },
     "execution_count": 3,
     "metadata": {},
     "output_type": "execute_result"
    }
   ],
   "source": [
    "df = pd.read_csv('AI_and_ChatGPT.csv', header=1)\n",
    "df"
   ]
  },
  {
   "cell_type": "code",
   "execution_count": 4,
   "metadata": {},
   "outputs": [],
   "source": [
    "df = df.rename(columns = {'AI: (United States)':'AI','ChatGPT: (United States)':'ChatGPT'})"
   ]
  },
  {
   "cell_type": "code",
   "execution_count": 5,
   "metadata": {},
   "outputs": [],
   "source": [
    "df['ChatGPT'] = np.where(df['ChatGPT'] == '<1', 0, df['ChatGPT'])\n",
    "df['ChatGPT']  = df['ChatGPT'].astype(int) \n",
    "df['Week']  = pd.to_datetime(df['Week'])\n",
    "df"
   ]
  },
  {
   "cell_type": "code",
   "execution_count": 9,
   "metadata": {},
   "outputs": [],
   "source": [
    "\n",
    "intervention_date = '2022-11-30'\n",
    "\n",
    "pre_period_start = min(df['Week'])\n",
    "pre_period_stop = max(df[df['Week'] < intervention_date]['Week'])\n",
    "\n",
    "post_period_start = min(df[df['Week'] >= intervention_date]['Week'])\n",
    "post_period_stop = max(df['Week'])"
   ]
  },
  {
   "cell_type": "code",
   "execution_count": 11,
   "metadata": {},
   "outputs": [],
   "source": [
    "pre_period=[pre_period_start, pre_period_stop]\n",
    "post_period=[post_period_start, post_period_stop]"
   ]
  },
  {
   "cell_type": "code",
   "execution_count": 15,
   "metadata": {},
   "outputs": [],
   "source": [
    "df = df.set_index('Week')"
   ]
  },
  {
   "cell_type": "code",
   "execution_count": 19,
   "metadata": {},
   "outputs": [
    {
     "name": "stderr",
     "output_type": "stream",
     "text": [
      "/Users/sam/opt/anaconda3/envs/causal_env/lib/python3.9/site-packages/causalimpact/data.py:263: FutureWarning: DataFrame.applymap has been deprecated. Use DataFrame.map instead.\n",
      "  if not data.applymap(np.isreal).values.all():\n"
     ]
    },
    {
     "name": "stdout",
     "output_type": "stream",
     "text": [
      "WARNING:tensorflow:From /Users/sam/opt/anaconda3/envs/causal_env/lib/python3.9/site-packages/tensorflow/python/autograph/impl/api.py:459: StructuralTimeSeries.joint_log_prob (from tensorflow_probability.python.sts.structural_time_series) is deprecated and will be removed after 2022-03-01.\n",
      "Instructions for updating:\n",
      "Please use `StructuralTimeSeries.joint_distribution(observed_time_series).log_prob`\n",
      "WARNING:tensorflow:From /Users/sam/opt/anaconda3/envs/causal_env/lib/python3.9/site-packages/causalimpact/model.py:408: calling one_step_predictive (from tensorflow_probability.python.sts.forecast) with timesteps_are_event_shape=True is deprecated and will be removed after 2021-12-31.\n",
      "Instructions for updating:\n",
      "`Predictive distributions returned by`tfp.sts.one_step_predictive` will soon compute per-timestep probabilities (treating timesteps as part of the batch shape) instead of a single probability for an entire series (the current approach, in which timesteps are treated as event shape). Please update your code to pass `timesteps_are_event_shape=False` (this will soon be the default) and to explicitly sum over the per-timestep log probabilities if this is required.\n"
     ]
    }
   ],
   "source": [
    "ci = CausalImpact(df, pre_period=pre_period, post_period=post_period)"
   ]
  },
  {
   "cell_type": "code",
   "execution_count": 20,
   "metadata": {},
   "outputs": [
    {
     "data": {
      "image/png": "[encoded data removed]",
      "text/plain": [
       "<Figure size 1000x700 with 3 Axes>"
      ]
     },
     "metadata": {},
     "output_type": "display_data"
    }
   ],
   "source": [
    "ci.plot()"
   ]
  },
  {
   "cell_type": "code",
   "execution_count": 21,
   "metadata": {},
   "outputs": [
    {
     "name": "stdout",
     "output_type": "stream",
     "text": [
      "Posterior Inference {Causal Impact}\n",
      "                          Average            Cumulative\n",
      "Actual                    61.58              3202.0\n",
      "Prediction (s.d.)         18.93 (1.1)        984.32 (57.15)\n",
      "95% CI                    [16.91, 21.21]     [879.11, 1103.12]\n",
      "\n",
      "Absolute effect (s.d.)    42.65 (1.1)        2217.68 (57.15)\n",
      "95% CI                    [40.36, 44.67]     [2098.88, 2322.89]\n",
      "\n",
      "Relative effect (s.d.)    225.3% (5.81%)     225.3% (5.81%)\n",
      "95% CI                    [213.23%, 235.99%] [213.23%, 235.99%]\n",
      "\n",
      "Posterior tail-area probability p: 0.0\n",
      "Posterior prob. of a causal effect: 100.0%\n",
      "\n",
      "For more details run the command: print(impact.summary('report'))\n"
     ]
    }
   ],
   "source": [
    "print(ci.summary())"
   ]
  },
  {
   "cell_type": "code",
   "execution_count": 22,
   "metadata": {},
   "outputs": [
    {
     "name": "stdout",
     "output_type": "stream",
     "text": [
      "Analysis report {CausalImpact}\n",
      "\n",
      "\n",
      "During the post-intervention period, the response variable had\n",
      "an average value of approx. 61.58. By contrast, in the absence of an\n",
      "intervention, we would have expected an average response of 18.93.\n",
      "The 95% interval of this counterfactual prediction is [16.91, 21.21].\n",
      "Subtracting this prediction from the observed response yields\n",
      "an estimate of the causal effect the intervention had on the\n",
      "response variable. This effect is 42.65 with a 95% interval of\n",
      "[40.36, 44.67]. For a discussion of the significance of this effect,\n",
      "see below.\n",
      "\n",
      "\n",
      "Summing up the individual data points during the post-intervention\n",
      "period (which can only sometimes be meaningfully interpreted), the\n",
      "response variable had an overall value of 3202.0.\n",
      "By contrast, had the intervention not taken place, we would have expected\n",
      "a sum of 984.32. The 95% interval of this prediction is [879.11, 1103.12].\n",
      "\n",
      "\n",
      "The above results are given in terms of absolute numbers. In relative\n",
      "terms, the response variable showed an increase of +225.3%. The 95%\n",
      "interval of this percentage is [213.23%, 235.99%].\n",
      "\n",
      "\n",
      "This means that the positive effect observed during the intervention\n",
      "period is statistically significant and unlikely to be due to random\n",
      "fluctuations. It should be noted, however, that the question of whether\n",
      "this increase also bears substantive significance can only be answered\n",
      "by comparing the absolute effect (42.65) to the original goal\n",
      "of the underlying intervention.\n",
      "\n",
      "\n",
      "The probability of obtaining this effect by chance is very small\n",
      "(Bayesian one-sided tail-area probability p = 0.0).\n",
      "This means the causal effect can be considered statistically\n",
      "significant.\n"
     ]
    }
   ],
   "source": [
    "print(ci.summary(output='report'))"
   ]
  },
  {
   "cell_type": "code",
   "execution_count": null,
   "metadata": {},
   "outputs": [],
   "source": []
  },
  {
   "cell_type": "code",
   "execution_count": null,
   "metadata": {},
   "outputs": [],
   "source": []
  },
  {
   "cell_type": "code",
   "execution_count": null,
   "metadata": {},
   "outputs": [],
   "source": []
  },
  {
   "cell_type": "code",
   "execution_count": null,
   "metadata": {},
   "outputs": [],
   "source": []
  },
  {
   "cell_type": "code",
   "execution_count": null,
   "metadata": {},
   "outputs": [],
   "source": []
  },
  {
   "cell_type": "code",
   "execution_count": null,
   "metadata": {},
   "outputs": [],
   "source": []
  }
 ],
 "metadata": {
  "kernelspec": {
   "display_name": "base",
   "language": "python",
   "name": "python3"
  },
  "language_info": {
   "codemirror_mode": {
    "name": "ipython",
    "version": 3
   },
   "file_extension": ".py",
   "mimetype": "text/x-python",
   "name": "python",
   "nbconvert_exporter": "python",
   "pygments_lexer": "ipython3",
   "version": "3.9.18"
  }
 },
 "nbformat": 4,
 "nbformat_minor": 2
}
